{
 "cells": [
  {
   "cell_type": "code",
   "execution_count": 1,
   "metadata": {},
   "outputs": [],
   "source": [
    "import os\n",
    "import time\n",
    "\n",
    "import torch\n",
    "import torch.nn as nn\n",
    "import torch.optim as optim\n",
    "import torch.nn.functional as F\n",
    "from torchvision import datasets, transforms\n",
    "\n",
    "import numpy as np\n",
    "from typing import Iterable\n",
    "from dataclasses import dataclass\n",
    "\n",
    "%matplotlib inline\n",
    "import matplotlib.pyplot as plt"
   ]
  },
  {
   "cell_type": "code",
   "execution_count": 2,
   "metadata": {},
   "outputs": [],
   "source": [
    "class LeNet5(nn.Module):\n",
    "    \"\"\"LeNet5 MNIST handwritten digit classification model\"\"\"\n",
    "    def __init__(self):\n",
    "        super().__init__()\n",
    "\n",
    "        # feature extractor\n",
    "        self._body = nn.Sequential(\n",
    "            # input = (32, 32), output = (28, 28)\n",
    "            nn.Conv2d(in_channels=1, out_channels=6, kernel_size=5),\n",
    "            nn.ReLU(inplace=True),\n",
    "            nn.MaxPool2d(kernel_size=2),\n",
    "            \n",
    "            # input = (14, 14), output = (10, 10)\n",
    "            nn.Conv2d(in_channels=6, out_channels=16, kernel_size=5),\n",
    "            nn.ReLU(inplace=True),\n",
    "            nn.MaxPool2d(kernel_size=2), # output = (5, 5)\n",
    "        )\n",
    "        \n",
    "        # fully-connected layers\n",
    "        self._head = nn.Sequential(\n",
    "            # in_features = total number of weight in last conv layer = 16 * 5 * 5\n",
    "            nn.Linear(in_features=16 * 5 * 5, out_features=120), \n",
    "            nn.ReLU(inplace=True),\n",
    "            # in_features = output of last linear layer = 120 \n",
    "            nn.Linear(in_features=120, out_features=84), \n",
    "            nn.ReLU(inplace=True),\n",
    "            # out_features = number of classes = 10 (MNIST data 0-9)\n",
    "            nn.Linear(in_features=84, out_features=10)\n",
    "        )\n",
    "\n",
    "    def forward(self, x):\n",
    "        # apply feature extractor\n",
    "        x = self._body(x)\n",
    "        # flatten the output of conv layers\n",
    "        # dimension should be batch_size * number_of weight_in_last conv_layer\n",
    "        x = x.view(x.size()[0], -1)\n",
    "        x = self._head(x)\n",
    "        return x"
   ]
  },
  {
   "cell_type": "code",
   "execution_count": 3,
   "metadata": {},
   "outputs": [
    {
     "name": "stdout",
     "output_type": "stream",
     "text": [
      "LeNet5(\n",
      "  (_body): Sequential(\n",
      "    (0): Conv2d(1, 6, kernel_size=(5, 5), stride=(1, 1))\n",
      "    (1): ReLU(inplace=True)\n",
      "    (2): MaxPool2d(kernel_size=2, stride=2, padding=0, dilation=1, ceil_mode=False)\n",
      "    (3): Conv2d(6, 16, kernel_size=(5, 5), stride=(1, 1))\n",
      "    (4): ReLU(inplace=True)\n",
      "    (5): MaxPool2d(kernel_size=2, stride=2, padding=0, dilation=1, ceil_mode=False)\n",
      "  )\n",
      "  (_head): Sequential(\n",
      "    (0): Linear(in_features=400, out_features=120, bias=True)\n",
      "    (1): ReLU(inplace=True)\n",
      "    (2): Linear(in_features=120, out_features=84, bias=True)\n",
      "    (3): ReLU(inplace=True)\n",
      "    (4): Linear(in_features=84, out_features=10, bias=True)\n",
      "  )\n",
      ")\n"
     ]
    }
   ],
   "source": [
    "lenet5_model = LeNet5()\n",
    "print(lenet5_model)"
   ]
  },
  {
   "cell_type": "code",
   "execution_count": 4,
   "metadata": {},
   "outputs": [],
   "source": [
    "def get_data(batch_size, data_root='data', num_workers=1):\n",
    "    \"\"\"Loads the data\"\"\"\n",
    "    train_test_transforms = transforms.Compose([\n",
    "        transforms.Resize((32, 32)),\n",
    "        transforms.ToTensor(),\n",
    "        transforms.Normalize((0.1307, ), (0.3081, )) # mean and variance\n",
    "    ])\n",
    "    \n",
    "    train_loader = torch.utils.data.DataLoader(\n",
    "        datasets.MNIST(\n",
    "            root=data_root, \n",
    "            train=True, \n",
    "            download=True, \n",
    "            transform=train_test_transforms),\n",
    "        batch_size=batch_size,\n",
    "        shuffle=True,\n",
    "        num_workers=num_workers\n",
    "    )\n",
    "    \n",
    "    test_loader = torch.utils.data.DataLoader(\n",
    "        datasets.MNIST(\n",
    "            root=data_root, \n",
    "            train=False, \n",
    "            download=True, \n",
    "            transform=train_test_transforms),\n",
    "        batch_size=batch_size,\n",
    "        shuffle=False,\n",
    "        num_workers=num_workers\n",
    "    )\n",
    "    \n",
    "    return train_loader, test_loader"
   ]
  },
  {
   "cell_type": "code",
   "execution_count": 5,
   "metadata": {},
   "outputs": [],
   "source": [
    "@dataclass\n",
    "class SystemConfiguration:\n",
    "    \"Sets the system config\"\n",
    "    seed: int = 42  # seed number to set the state of all random number generators\n",
    "    cudnn_benchmark_enabled: bool = True  # enable CuDNN benchmark for the sake of performance\n",
    "    cudnn_deterministic: bool = True  # make cudnn deterministic (reproducible training)"
   ]
  },
  {
   "cell_type": "code",
   "execution_count": 6,
   "metadata": {},
   "outputs": [],
   "source": [
    "@dataclass\n",
    "class TrainingConfiguration:\n",
    "    \"\"\"Sets the training config\"\"\"\n",
    "    batch_size: int = 32  # amount of data to pass through the network at each forward-backward iteration\n",
    "    epochs_count: int = 20  # number of times the whole dataset will be passed through the network\n",
    "    learning_rate: float = 0.01  # determines the speed of network's weights update\n",
    "    log_interval: int = 100  # how many batches to wait between logging training status\n",
    "    test_interval: int = 1  # how many epochs to wait before another test. Set to 1 to get val loss at each epoch\n",
    "    data_root: str = \"data\"  # folder to save MNIST data (default: data/mnist-data)\n",
    "    num_workers: int = 10  # number of concurrent processes using to prepare data\n",
    "    device: str = 'cpu'  # device to use for training."
   ]
  },
  {
   "cell_type": "code",
   "execution_count": 7,
   "metadata": {},
   "outputs": [],
   "source": [
    "def setup_system(system_config: SystemConfiguration) -> None:\n",
    "    \"\"\"Setup system config\"\"\"\n",
    "    torch.manual_seed(system_config.seed)\n",
    "    if torch.cuda.is_available():\n",
    "        torch.backends.cudnn_benchmark_enabled = system_config.cudnn_benchmark_enabled\n",
    "        torch.backends.cudnn.deterministic = system_config.cudnn_deterministic"
   ]
  },
  {
   "cell_type": "code",
   "execution_count": 8,
   "metadata": {},
   "outputs": [],
   "source": [
    "def train(\n",
    "    train_config: TrainingConfiguration, \n",
    "    model: nn.Module, \n",
    "    optimizer: torch.optim.Optimizer,\n",
    "    train_loader: torch.utils.data.DataLoader, \n",
    "    epoch_idx: int) -> None:   \n",
    "    \"\"\"Train the model.\"\"\"\n",
    "    model.train() # set model to training mode\n",
    "    \n",
    "    batch_loss = np.array([])\n",
    "    batch_acc = np.array([])\n",
    "        \n",
    "    for batch_idx, (data, target) in enumerate(train_loader):\n",
    "        indx_target = target.clone() # clone target\n",
    "        data = data.to(train_config.device) # send data to device\n",
    "        target = target.to(train_config.device) # send target to device\n",
    "        \n",
    "        optimizer.zero_grad() # zero out the optimizer\n",
    "        \n",
    "        output = model(data) # forward pass to the model\n",
    "        loss = F.cross_entropy(output, target) # cross entropy loss\n",
    "        loss.backward() # find gradients w.r.t training parameters\n",
    "        optimizer.step() # adjust the params\n",
    "        \n",
    "        batch_loss = np.append(batch_loss, [loss.item()])\n",
    "        prob = F.softmax(output, dim=1) # score to probability using softmax\n",
    "        pred = prob.data.max(dim=1)[1] # index of the max probability\n",
    "        correct = pred.cpu().eq(indx_target).sum() # correct prediction\n",
    "        \n",
    "        acc = float(correct) / float(len(data))\n",
    "        batch_acc = np.append(batch_acc, [acc])\n",
    "\n",
    "        if batch_idx % train_config.log_interval == 0 and batch_idx > 0:              \n",
    "            print(\n",
    "                'Train Epoch: {} [{}/{}] Loss: {:.6f} Acc: {:.4f}'.format(\n",
    "                    epoch_idx, batch_idx * len(data), len(train_loader.dataset), loss.item(), acc\n",
    "                )\n",
    "            )\n",
    "            \n",
    "    epoch_loss = batch_loss.mean()\n",
    "    epoch_acc = batch_acc.mean()\n",
    "    \n",
    "    return epoch_loss, epoch_acc"
   ]
  },
  {
   "cell_type": "code",
   "execution_count": 9,
   "metadata": {},
   "outputs": [],
   "source": [
    "def validate(\n",
    "    train_config: TrainingConfiguration,\n",
    "    model: nn.Module,\n",
    "    test_loader: torch.utils.data.DataLoader,) -> float:\n",
    "    \"\"\"Validate the model loss and accuracy\"\"\"\n",
    "    model.eval()\n",
    "    test_loss = 0\n",
    "    count_corect_predictions = 0\n",
    "    \n",
    "    for data, target in test_loader:\n",
    "        indx_target = target.clone()\n",
    "        data = data.to(train_config.device)\n",
    "        target = target.to(train_config.device)\n",
    "        \n",
    "        output = model(data)\n",
    "        \n",
    "        test_loss += F.cross_entropy(output, target).item() # add loss for each mini batch\n",
    "        prob = F.softmax(output, dim=1) # score to probability using softmax\n",
    "        pred = prob.data.max(dim=1)[1] # get the index of the max probability\n",
    "        count_corect_predictions += pred.cpu().eq(indx_target).sum() # add correct prediction count\n",
    "\n",
    "    test_loss = test_loss / len(test_loader) # average over number of mini-batches\n",
    "    accuracy = 100. * count_corect_predictions / len(test_loader.dataset) # average over number of dataset\n",
    "    \n",
    "    print(\n",
    "        '\\nTest set: Average loss: {:.4f}, Accuracy: {}/{} ({:.0f}%)\\n'.format(\n",
    "            test_loss, count_corect_predictions, len(test_loader.dataset), accuracy\n",
    "        )\n",
    "    )\n",
    "    \n",
    "    return test_loss, accuracy/100.0"
   ]
  },
  {
   "cell_type": "code",
   "execution_count": 10,
   "metadata": {},
   "outputs": [],
   "source": [
    "def main(\n",
    "    system_configuration=SystemConfiguration(), \n",
    "    training_configuration=TrainingConfiguration()):\n",
    "    \n",
    "    setup_system(system_configuration)\n",
    "\n",
    "    batch_size_to_set = training_configuration.batch_size\n",
    "    num_workers_to_set = training_configuration.num_workers\n",
    "    epoch_num_to_set = training_configuration.epochs_count\n",
    "\n",
    "    # if GPU is available use training config, \n",
    "    # else lowers batch_size, num_workers and epochs count\n",
    "    if torch.cuda.is_available():\n",
    "        device = \"cuda\"\n",
    "    else:\n",
    "        device = \"cpu\"\n",
    "        batch_size_to_set = 16\n",
    "        num_workers_to_set = 2\n",
    "        epoch_num_to_set = 5\n",
    "\n",
    "    train_loader, test_loader = get_data(\n",
    "        batch_size=batch_size_to_set,\n",
    "        data_root=training_configuration.data_root,\n",
    "        num_workers=num_workers_to_set\n",
    "    )\n",
    "    \n",
    "    # update training configuration\n",
    "    training_configuration = TrainingConfiguration(\n",
    "        device=device,\n",
    "        epochs_count=epoch_num_to_set,\n",
    "        batch_size=batch_size_to_set,\n",
    "        num_workers=num_workers_to_set\n",
    "    )\n",
    "\n",
    "    model = LeNet5()\n",
    "    model.to(training_configuration.device)\n",
    "\n",
    "    optimizer = optim.SGD(\n",
    "        model.parameters(),\n",
    "        lr=training_configuration.learning_rate\n",
    "    )\n",
    "\n",
    "    best_loss = torch.tensor(np.inf)\n",
    "    \n",
    "    # epoch train/test loss and accuracy\n",
    "    epoch_train_loss = np.array([])\n",
    "    epoch_test_loss = np.array([])\n",
    "    epoch_train_acc = np.array([])\n",
    "    epoch_test_acc = np.array([])\n",
    "    \n",
    "    t_begin = time.time()\n",
    "    for epoch in range(training_configuration.epochs_count):\n",
    "        train_loss, train_acc = train(\n",
    "            training_configuration, \n",
    "            model, \n",
    "            optimizer, \n",
    "            train_loader, \n",
    "            epoch)\n",
    "        \n",
    "        epoch_train_loss = np.append(epoch_train_loss, [train_loss])\n",
    "        epoch_train_acc = np.append(epoch_train_acc, [train_acc])\n",
    "\n",
    "        elapsed_time = time.time() - t_begin\n",
    "        speed_epoch = elapsed_time / (epoch + 1)\n",
    "        speed_batch = speed_epoch / len(train_loader)\n",
    "        eta = speed_epoch * training_configuration.epochs_count - elapsed_time\n",
    "        \n",
    "        print(\"Elapsed {:.2f}s, {:.2f} s/epoch, {:.2f} s/batch, ets {:.2f}s\".format(\n",
    "                elapsed_time, speed_epoch, speed_batch, eta))\n",
    "\n",
    "        if epoch % training_configuration.test_interval == 0:\n",
    "            current_loss, current_accuracy = validate(\n",
    "                training_configuration, \n",
    "                model, \n",
    "                test_loader)\n",
    "            epoch_test_loss = np.append(epoch_test_loss, [current_loss])\n",
    "            epoch_test_acc = np.append(epoch_test_acc, [current_accuracy])\n",
    "            \n",
    "            if current_loss < best_loss:\n",
    "                best_loss = current_loss\n",
    "                \n",
    "    print(\"Total time: {:.2f}, Best Loss: {:.3f}\".format(time.time() - t_begin, best_loss))\n",
    "    \n",
    "    return model, epoch_train_loss, epoch_train_acc, epoch_test_loss, epoch_test_acc"
   ]
  },
  {
   "cell_type": "code",
   "execution_count": 11,
   "metadata": {
    "scrolled": true
   },
   "outputs": [
    {
     "name": "stdout",
     "output_type": "stream",
     "text": [
      "Train Epoch: 0 [1600/60000] Loss: 2.243848 Acc: 0.4375\n",
      "Train Epoch: 0 [3200/60000] Loss: 2.018941 Acc: 0.5000\n",
      "Train Epoch: 0 [4800/60000] Loss: 0.985802 Acc: 0.6875\n",
      "Train Epoch: 0 [6400/60000] Loss: 0.340875 Acc: 0.9375\n",
      "Train Epoch: 0 [8000/60000] Loss: 0.694390 Acc: 0.8125\n",
      "Train Epoch: 0 [9600/60000] Loss: 0.207748 Acc: 0.9375\n",
      "Train Epoch: 0 [11200/60000] Loss: 0.459664 Acc: 0.8125\n",
      "Train Epoch: 0 [12800/60000] Loss: 0.235502 Acc: 0.9375\n",
      "Train Epoch: 0 [14400/60000] Loss: 0.173661 Acc: 0.9375\n",
      "Train Epoch: 0 [16000/60000] Loss: 0.587761 Acc: 0.8125\n",
      "Train Epoch: 0 [17600/60000] Loss: 0.130970 Acc: 0.9375\n",
      "Train Epoch: 0 [19200/60000] Loss: 0.056829 Acc: 1.0000\n",
      "Train Epoch: 0 [20800/60000] Loss: 0.200711 Acc: 0.9375\n",
      "Train Epoch: 0 [22400/60000] Loss: 0.560265 Acc: 0.8125\n",
      "Train Epoch: 0 [24000/60000] Loss: 0.034418 Acc: 1.0000\n",
      "Train Epoch: 0 [25600/60000] Loss: 0.108391 Acc: 1.0000\n",
      "Train Epoch: 0 [27200/60000] Loss: 0.040248 Acc: 1.0000\n",
      "Train Epoch: 0 [28800/60000] Loss: 0.142751 Acc: 0.9375\n",
      "Train Epoch: 0 [30400/60000] Loss: 0.192497 Acc: 0.8750\n",
      "Train Epoch: 0 [32000/60000] Loss: 0.047817 Acc: 1.0000\n",
      "Train Epoch: 0 [33600/60000] Loss: 0.190684 Acc: 0.8750\n",
      "Train Epoch: 0 [35200/60000] Loss: 0.200627 Acc: 0.8750\n",
      "Train Epoch: 0 [36800/60000] Loss: 0.030658 Acc: 1.0000\n",
      "Train Epoch: 0 [38400/60000] Loss: 0.093464 Acc: 0.9375\n",
      "Train Epoch: 0 [40000/60000] Loss: 0.094759 Acc: 1.0000\n",
      "Train Epoch: 0 [41600/60000] Loss: 0.034981 Acc: 1.0000\n",
      "Train Epoch: 0 [43200/60000] Loss: 0.220632 Acc: 0.9375\n",
      "Train Epoch: 0 [44800/60000] Loss: 0.716174 Acc: 0.8125\n",
      "Train Epoch: 0 [46400/60000] Loss: 0.077654 Acc: 1.0000\n",
      "Train Epoch: 0 [48000/60000] Loss: 0.063352 Acc: 1.0000\n",
      "Train Epoch: 0 [49600/60000] Loss: 0.070774 Acc: 1.0000\n",
      "Train Epoch: 0 [51200/60000] Loss: 0.435600 Acc: 0.8750\n",
      "Train Epoch: 0 [52800/60000] Loss: 0.094089 Acc: 0.9375\n",
      "Train Epoch: 0 [54400/60000] Loss: 0.023839 Acc: 1.0000\n",
      "Train Epoch: 0 [56000/60000] Loss: 0.019394 Acc: 1.0000\n",
      "Train Epoch: 0 [57600/60000] Loss: 0.069245 Acc: 1.0000\n",
      "Train Epoch: 0 [59200/60000] Loss: 0.401649 Acc: 0.9375\n",
      "Elapsed 91.03s, 91.03 s/epoch, 0.02 s/batch, ets 364.11s\n",
      "\n",
      "Test set: Average loss: 0.0847, Accuracy: 9730/10000 (97%)\n",
      "\n",
      "Train Epoch: 1 [1600/60000] Loss: 0.009549 Acc: 1.0000\n",
      "Train Epoch: 1 [3200/60000] Loss: 0.216788 Acc: 0.8750\n",
      "Train Epoch: 1 [4800/60000] Loss: 0.242820 Acc: 0.9375\n",
      "Train Epoch: 1 [6400/60000] Loss: 0.027312 Acc: 1.0000\n",
      "Train Epoch: 1 [8000/60000] Loss: 0.169920 Acc: 0.9375\n",
      "Train Epoch: 1 [9600/60000] Loss: 0.078445 Acc: 1.0000\n",
      "Train Epoch: 1 [11200/60000] Loss: 0.543197 Acc: 0.8750\n",
      "Train Epoch: 1 [12800/60000] Loss: 0.027810 Acc: 1.0000\n",
      "Train Epoch: 1 [14400/60000] Loss: 0.003124 Acc: 1.0000\n",
      "Train Epoch: 1 [16000/60000] Loss: 0.009599 Acc: 1.0000\n",
      "Train Epoch: 1 [17600/60000] Loss: 0.058291 Acc: 1.0000\n",
      "Train Epoch: 1 [19200/60000] Loss: 0.167637 Acc: 0.9375\n",
      "Train Epoch: 1 [20800/60000] Loss: 0.060722 Acc: 1.0000\n",
      "Train Epoch: 1 [22400/60000] Loss: 0.192448 Acc: 0.9375\n",
      "Train Epoch: 1 [24000/60000] Loss: 0.010301 Acc: 1.0000\n",
      "Train Epoch: 1 [25600/60000] Loss: 0.197169 Acc: 0.9375\n",
      "Train Epoch: 1 [27200/60000] Loss: 0.130862 Acc: 0.9375\n",
      "Train Epoch: 1 [28800/60000] Loss: 0.027597 Acc: 1.0000\n",
      "Train Epoch: 1 [30400/60000] Loss: 0.018647 Acc: 1.0000\n",
      "Train Epoch: 1 [32000/60000] Loss: 0.038885 Acc: 1.0000\n",
      "Train Epoch: 1 [33600/60000] Loss: 0.064198 Acc: 0.9375\n",
      "Train Epoch: 1 [35200/60000] Loss: 0.020720 Acc: 1.0000\n",
      "Train Epoch: 1 [36800/60000] Loss: 0.143106 Acc: 0.9375\n",
      "Train Epoch: 1 [38400/60000] Loss: 0.019057 Acc: 1.0000\n",
      "Train Epoch: 1 [40000/60000] Loss: 0.015039 Acc: 1.0000\n",
      "Train Epoch: 1 [41600/60000] Loss: 0.088183 Acc: 0.9375\n",
      "Train Epoch: 1 [43200/60000] Loss: 0.004023 Acc: 1.0000\n",
      "Train Epoch: 1 [44800/60000] Loss: 0.044693 Acc: 1.0000\n",
      "Train Epoch: 1 [46400/60000] Loss: 0.017352 Acc: 1.0000\n",
      "Train Epoch: 1 [48000/60000] Loss: 0.031194 Acc: 1.0000\n",
      "Train Epoch: 1 [49600/60000] Loss: 0.195016 Acc: 0.9375\n",
      "Train Epoch: 1 [51200/60000] Loss: 0.019135 Acc: 1.0000\n",
      "Train Epoch: 1 [52800/60000] Loss: 0.036798 Acc: 1.0000\n",
      "Train Epoch: 1 [54400/60000] Loss: 0.004119 Acc: 1.0000\n",
      "Train Epoch: 1 [56000/60000] Loss: 0.402464 Acc: 0.8750\n",
      "Train Epoch: 1 [57600/60000] Loss: 0.011267 Acc: 1.0000\n",
      "Train Epoch: 1 [59200/60000] Loss: 0.131152 Acc: 0.9375\n",
      "Elapsed 156.04s, 78.02 s/epoch, 0.02 s/batch, ets 234.06s\n",
      "\n",
      "Test set: Average loss: 0.0667, Accuracy: 9779/10000 (98%)\n",
      "\n",
      "Train Epoch: 2 [1600/60000] Loss: 0.084617 Acc: 0.9375\n",
      "Train Epoch: 2 [3200/60000] Loss: 0.152357 Acc: 0.9375\n",
      "Train Epoch: 2 [4800/60000] Loss: 0.019869 Acc: 1.0000\n",
      "Train Epoch: 2 [6400/60000] Loss: 0.016419 Acc: 1.0000\n",
      "Train Epoch: 2 [8000/60000] Loss: 0.012857 Acc: 1.0000\n",
      "Train Epoch: 2 [9600/60000] Loss: 0.028889 Acc: 1.0000\n",
      "Train Epoch: 2 [11200/60000] Loss: 0.009961 Acc: 1.0000\n",
      "Train Epoch: 2 [12800/60000] Loss: 0.025369 Acc: 1.0000\n",
      "Train Epoch: 2 [14400/60000] Loss: 0.009945 Acc: 1.0000\n",
      "Train Epoch: 2 [16000/60000] Loss: 0.011330 Acc: 1.0000\n",
      "Train Epoch: 2 [17600/60000] Loss: 0.045761 Acc: 1.0000\n",
      "Train Epoch: 2 [19200/60000] Loss: 0.138034 Acc: 0.9375\n",
      "Train Epoch: 2 [20800/60000] Loss: 0.022447 Acc: 1.0000\n",
      "Train Epoch: 2 [22400/60000] Loss: 0.002097 Acc: 1.0000\n",
      "Train Epoch: 2 [24000/60000] Loss: 0.000800 Acc: 1.0000\n",
      "Train Epoch: 2 [25600/60000] Loss: 0.061636 Acc: 1.0000\n",
      "Train Epoch: 2 [27200/60000] Loss: 0.056457 Acc: 1.0000\n",
      "Train Epoch: 2 [28800/60000] Loss: 0.054195 Acc: 1.0000\n",
      "Train Epoch: 2 [30400/60000] Loss: 0.406197 Acc: 0.9375\n",
      "Train Epoch: 2 [32000/60000] Loss: 0.092358 Acc: 0.9375\n",
      "Train Epoch: 2 [33600/60000] Loss: 0.007240 Acc: 1.0000\n",
      "Train Epoch: 2 [35200/60000] Loss: 0.094209 Acc: 0.9375\n",
      "Train Epoch: 2 [36800/60000] Loss: 0.016403 Acc: 1.0000\n",
      "Train Epoch: 2 [38400/60000] Loss: 0.041744 Acc: 1.0000\n",
      "Train Epoch: 2 [40000/60000] Loss: 0.072044 Acc: 1.0000\n",
      "Train Epoch: 2 [41600/60000] Loss: 0.178057 Acc: 0.9375\n",
      "Train Epoch: 2 [43200/60000] Loss: 0.006767 Acc: 1.0000\n",
      "Train Epoch: 2 [44800/60000] Loss: 0.001298 Acc: 1.0000\n",
      "Train Epoch: 2 [46400/60000] Loss: 0.130765 Acc: 0.9375\n",
      "Train Epoch: 2 [48000/60000] Loss: 0.002712 Acc: 1.0000\n",
      "Train Epoch: 2 [49600/60000] Loss: 0.044726 Acc: 1.0000\n",
      "Train Epoch: 2 [51200/60000] Loss: 0.050783 Acc: 1.0000\n",
      "Train Epoch: 2 [52800/60000] Loss: 0.039071 Acc: 1.0000\n",
      "Train Epoch: 2 [54400/60000] Loss: 0.057556 Acc: 1.0000\n",
      "Train Epoch: 2 [56000/60000] Loss: 0.018474 Acc: 1.0000\n",
      "Train Epoch: 2 [57600/60000] Loss: 0.043567 Acc: 1.0000\n",
      "Train Epoch: 2 [59200/60000] Loss: 0.009799 Acc: 1.0000\n",
      "Elapsed 250.89s, 83.63 s/epoch, 0.02 s/batch, ets 167.26s\n",
      "\n",
      "Test set: Average loss: 0.0605, Accuracy: 9804/10000 (98%)\n",
      "\n",
      "Train Epoch: 3 [1600/60000] Loss: 0.000962 Acc: 1.0000\n",
      "Train Epoch: 3 [3200/60000] Loss: 0.061721 Acc: 0.9375\n",
      "Train Epoch: 3 [4800/60000] Loss: 0.002351 Acc: 1.0000\n",
      "Train Epoch: 3 [6400/60000] Loss: 0.282530 Acc: 0.8750\n",
      "Train Epoch: 3 [8000/60000] Loss: 0.153924 Acc: 0.9375\n",
      "Train Epoch: 3 [9600/60000] Loss: 0.043764 Acc: 1.0000\n",
      "Train Epoch: 3 [11200/60000] Loss: 0.005641 Acc: 1.0000\n",
      "Train Epoch: 3 [12800/60000] Loss: 0.000423 Acc: 1.0000\n",
      "Train Epoch: 3 [14400/60000] Loss: 0.038916 Acc: 1.0000\n",
      "Train Epoch: 3 [16000/60000] Loss: 0.008483 Acc: 1.0000\n",
      "Train Epoch: 3 [17600/60000] Loss: 0.014666 Acc: 1.0000\n",
      "Train Epoch: 3 [19200/60000] Loss: 0.009076 Acc: 1.0000\n",
      "Train Epoch: 3 [20800/60000] Loss: 0.019747 Acc: 1.0000\n",
      "Train Epoch: 3 [22400/60000] Loss: 0.083350 Acc: 0.9375\n",
      "Train Epoch: 3 [24000/60000] Loss: 0.002723 Acc: 1.0000\n",
      "Train Epoch: 3 [25600/60000] Loss: 0.030820 Acc: 1.0000\n",
      "Train Epoch: 3 [27200/60000] Loss: 0.075263 Acc: 1.0000\n",
      "Train Epoch: 3 [28800/60000] Loss: 0.001461 Acc: 1.0000\n",
      "Train Epoch: 3 [30400/60000] Loss: 0.028689 Acc: 1.0000\n",
      "Train Epoch: 3 [32000/60000] Loss: 0.011052 Acc: 1.0000\n",
      "Train Epoch: 3 [33600/60000] Loss: 0.183418 Acc: 0.9375\n",
      "Train Epoch: 3 [35200/60000] Loss: 0.004645 Acc: 1.0000\n",
      "Train Epoch: 3 [36800/60000] Loss: 0.000912 Acc: 1.0000\n",
      "Train Epoch: 3 [38400/60000] Loss: 0.041425 Acc: 1.0000\n",
      "Train Epoch: 3 [40000/60000] Loss: 0.002810 Acc: 1.0000\n",
      "Train Epoch: 3 [41600/60000] Loss: 0.138848 Acc: 0.9375\n",
      "Train Epoch: 3 [43200/60000] Loss: 0.040494 Acc: 1.0000\n",
      "Train Epoch: 3 [44800/60000] Loss: 0.004834 Acc: 1.0000\n",
      "Train Epoch: 3 [46400/60000] Loss: 0.012288 Acc: 1.0000\n",
      "Train Epoch: 3 [48000/60000] Loss: 0.022009 Acc: 1.0000\n"
     ]
    },
    {
     "name": "stdout",
     "output_type": "stream",
     "text": [
      "Train Epoch: 3 [49600/60000] Loss: 0.056171 Acc: 1.0000\n",
      "Train Epoch: 3 [51200/60000] Loss: 0.002781 Acc: 1.0000\n",
      "Train Epoch: 3 [52800/60000] Loss: 0.031158 Acc: 1.0000\n",
      "Train Epoch: 3 [54400/60000] Loss: 0.020743 Acc: 1.0000\n",
      "Train Epoch: 3 [56000/60000] Loss: 0.000650 Acc: 1.0000\n",
      "Train Epoch: 3 [57600/60000] Loss: 0.002770 Acc: 1.0000\n",
      "Train Epoch: 3 [59200/60000] Loss: 0.027179 Acc: 1.0000\n",
      "Elapsed 348.78s, 87.19 s/epoch, 0.02 s/batch, ets 87.19s\n",
      "\n",
      "Test set: Average loss: 0.0388, Accuracy: 9864/10000 (99%)\n",
      "\n",
      "Train Epoch: 4 [1600/60000] Loss: 0.000394 Acc: 1.0000\n",
      "Train Epoch: 4 [3200/60000] Loss: 0.000152 Acc: 1.0000\n",
      "Train Epoch: 4 [4800/60000] Loss: 0.059219 Acc: 1.0000\n",
      "Train Epoch: 4 [6400/60000] Loss: 0.301380 Acc: 0.8125\n",
      "Train Epoch: 4 [8000/60000] Loss: 0.002772 Acc: 1.0000\n",
      "Train Epoch: 4 [9600/60000] Loss: 0.013773 Acc: 1.0000\n",
      "Train Epoch: 4 [11200/60000] Loss: 0.009371 Acc: 1.0000\n",
      "Train Epoch: 4 [12800/60000] Loss: 0.003363 Acc: 1.0000\n",
      "Train Epoch: 4 [14400/60000] Loss: 0.016659 Acc: 1.0000\n",
      "Train Epoch: 4 [16000/60000] Loss: 0.004668 Acc: 1.0000\n",
      "Train Epoch: 4 [17600/60000] Loss: 0.006045 Acc: 1.0000\n",
      "Train Epoch: 4 [19200/60000] Loss: 0.004149 Acc: 1.0000\n",
      "Train Epoch: 4 [20800/60000] Loss: 0.019957 Acc: 1.0000\n",
      "Train Epoch: 4 [22400/60000] Loss: 0.007333 Acc: 1.0000\n",
      "Train Epoch: 4 [24000/60000] Loss: 0.003183 Acc: 1.0000\n",
      "Train Epoch: 4 [25600/60000] Loss: 0.000451 Acc: 1.0000\n",
      "Train Epoch: 4 [27200/60000] Loss: 0.007877 Acc: 1.0000\n",
      "Train Epoch: 4 [28800/60000] Loss: 0.000716 Acc: 1.0000\n",
      "Train Epoch: 4 [30400/60000] Loss: 0.009790 Acc: 1.0000\n",
      "Train Epoch: 4 [32000/60000] Loss: 0.010577 Acc: 1.0000\n",
      "Train Epoch: 4 [33600/60000] Loss: 0.056845 Acc: 1.0000\n",
      "Train Epoch: 4 [35200/60000] Loss: 0.000626 Acc: 1.0000\n",
      "Train Epoch: 4 [36800/60000] Loss: 0.002625 Acc: 1.0000\n",
      "Train Epoch: 4 [38400/60000] Loss: 0.052494 Acc: 0.9375\n",
      "Train Epoch: 4 [40000/60000] Loss: 0.022834 Acc: 1.0000\n",
      "Train Epoch: 4 [41600/60000] Loss: 0.001118 Acc: 1.0000\n",
      "Train Epoch: 4 [43200/60000] Loss: 0.009510 Acc: 1.0000\n",
      "Train Epoch: 4 [44800/60000] Loss: 0.061139 Acc: 1.0000\n",
      "Train Epoch: 4 [46400/60000] Loss: 0.008285 Acc: 1.0000\n",
      "Train Epoch: 4 [48000/60000] Loss: 0.138655 Acc: 0.8750\n",
      "Train Epoch: 4 [49600/60000] Loss: 0.013671 Acc: 1.0000\n",
      "Train Epoch: 4 [51200/60000] Loss: 0.002505 Acc: 1.0000\n",
      "Train Epoch: 4 [52800/60000] Loss: 0.014742 Acc: 1.0000\n",
      "Train Epoch: 4 [54400/60000] Loss: 0.006637 Acc: 1.0000\n",
      "Train Epoch: 4 [56000/60000] Loss: 0.172079 Acc: 0.9375\n",
      "Train Epoch: 4 [57600/60000] Loss: 0.027135 Acc: 1.0000\n",
      "Train Epoch: 4 [59200/60000] Loss: 0.001622 Acc: 1.0000\n",
      "Elapsed 445.24s, 89.05 s/epoch, 0.02 s/batch, ets 0.00s\n",
      "\n",
      "Test set: Average loss: 0.0384, Accuracy: 9875/10000 (99%)\n",
      "\n",
      "Total time: 448.80, Best Loss: 0.038\n"
     ]
    }
   ],
   "source": [
    "model, epoch_train_loss, epoch_train_acc, epoch_test_loss, epoch_test_acc = main()"
   ]
  },
  {
   "cell_type": "code",
   "execution_count": 12,
   "metadata": {
    "lines_to_next_cell": 2
   },
   "outputs": [
    {
     "data": {
      "image/png": "[encoded data removed]",
      "text/plain": [
       "<Figure size 720x432 with 1 Axes>"
      ]
     },
     "metadata": {
      "needs_background": "dark"
     },
     "output_type": "display_data"
    }
   ],
   "source": [
    "x = range(len(epoch_train_loss))\n",
    "plt.rcParams[\"figure.figsize\"] = (10, 6)\n",
    "plt.figure\n",
    "plt.plot(x, epoch_train_loss, color='r', label=\"train loss\")\n",
    "plt.plot(x, epoch_test_loss, color='b', label=\"validation loss\")\n",
    "plt.xlabel('epoch no.', color='w')\n",
    "plt.tick_params(axis='x', colors='w')\n",
    "plt.tick_params(axis='y', colors='w')\n",
    "plt.ylabel('loss', color='w')\n",
    "plt.legend(loc='upper right')\n",
    "plt.title('Training and Validation Loss', color='w')\n",
    "plt.show()"
   ]
  },
  {
   "cell_type": "code",
   "execution_count": 13,
   "metadata": {},
   "outputs": [
    {
     "data": {
      "image/png": "[encoded data removed]",
      "text/plain": [
       "<Figure size 720x432 with 1 Axes>"
      ]
     },
     "metadata": {
      "needs_background": "dark"
     },
     "output_type": "display_data"
    }
   ],
   "source": [
    "x = range(len(epoch_train_loss))\n",
    "plt.rcParams[\"figure.figsize\"] = (10, 6)\n",
    "plt.figure\n",
    "plt.plot(x, epoch_train_acc, color='r', label=\"train accuracy\")\n",
    "plt.plot(x, epoch_test_acc, color='b', label=\"validation accuracy\")\n",
    "plt.xlabel('epoch no.', color='w')\n",
    "plt.ylabel('accuracy', color='w')\n",
    "plt.tick_params(axis='x', colors='w')\n",
    "plt.tick_params(axis='y', colors='w')\n",
    "plt.legend(loc='center right')\n",
    "plt.title('Training and Validation Accuracy', color='w')\n",
    "plt.show()"
   ]
  },
  {
   "cell_type": "code",
   "execution_count": 14,
   "metadata": {},
   "outputs": [],
   "source": [
    "models = 'models'\n",
    "if not os.path.exists(models):\n",
    "    os.makedirs(models)\n",
    "    \n",
    "model_file_name = 'lenet5_mnist.pt'\n",
    "model_path = os.path.join(models, model_file_name)\n",
    "model.to('cpu')\n",
    "\n",
    "torch.save(model.state_dict(), model_path)"
   ]
  },
  {
   "cell_type": "code",
   "execution_count": 15,
   "metadata": {},
   "outputs": [
    {
     "data": {
      "text/plain": [
       "<All keys matched successfully>"
      ]
     },
     "execution_count": 15,
     "metadata": {},
     "output_type": "execute_result"
    }
   ],
   "source": [
    "lenet5_mnist = LeNet5()\n",
    "lenet5_mnist.load_state_dict(torch.load(model_path))"
   ]
  },
  {
   "cell_type": "code",
   "execution_count": 16,
   "metadata": {},
   "outputs": [],
   "source": [
    "def prediction(model, train_config, batch_input):\n",
    "    \"\"\"Predict data class\"\"\"\n",
    "    model.to(train_config.device) # model to cpu/cuda \n",
    "    model.eval() # do model.eval() before prediction\n",
    "\n",
    "    data = batch_input.to(train_config.device)\n",
    "    output = model(data)\n",
    "\n",
    "    prob = F.softmax(output, dim=1) # score to probability using softmax\n",
    "    pred_prob = prob.data.max(dim=1)[0] # max probability\n",
    "    pred_index = prob.data.max(dim=1)[1] # index of the max probability\n",
    "    \n",
    "    return pred_index.cpu().numpy(), pred_prob.cpu().numpy()"
   ]
  },
  {
   "cell_type": "code",
   "execution_count": 17,
   "metadata": {
    "lines_to_next_cell": 2
   },
   "outputs": [
    {
     "data": {
      "image/png": "[encoded data removed]",
      "text/plain": [
       "<Figure size 216x216 with 1 Axes>"
      ]
     },
     "metadata": {
      "needs_background": "light"
     },
     "output_type": "display_data"
    },
    {
     "data": {
      "image/png": "[encoded data removed]",
      "text/plain": [
       "<Figure size 216x216 with 1 Axes>"
      ]
     },
     "metadata": {
      "needs_background": "light"
     },
     "output_type": "display_data"
    },
    {
     "data": {
      "image/png": "[encoded data removed]",
      "text/plain": [
       "<Figure size 216x216 with 1 Axes>"
      ]
     },
     "metadata": {
      "needs_background": "light"
     },
     "output_type": "display_data"
    },
    {
     "data": {
      "image/png": "[encoded data removed]",
      "text/plain": [
       "<Figure size 216x216 with 1 Axes>"
      ]
     },
     "metadata": {
      "needs_background": "light"
     },
     "output_type": "display_data"
    },
    {
     "data": {
      "image/png": "[encoded data removed]",
      "text/plain": [
       "<Figure size 216x216 with 1 Axes>"
      ]
     },
     "metadata": {
      "needs_background": "light"
     },
     "output_type": "display_data"
    }
   ],
   "source": [
    "batch_size = 5\n",
    "train_config = TrainingConfiguration()\n",
    "\n",
    "# load test data w/out image transformation\n",
    "test = torch.utils.data.DataLoader(\n",
    "    datasets.MNIST(\n",
    "        root=train_config.data_root, \n",
    "        train=False, \n",
    "        download=True, \n",
    "        transform=transforms.functional.to_tensor),\n",
    "    batch_size=batch_size,\n",
    "    shuffle=False,\n",
    "    num_workers=1\n",
    "    )\n",
    "\n",
    "# load testdata w/ image transformation\n",
    "image_transforms = transforms.Compose([\n",
    "    transforms.Resize((32, 32)),\n",
    "    transforms.ToTensor(),\n",
    "    transforms.Normalize((0.1307, ), (0.3081, ))\n",
    "    ])\n",
    "\n",
    "test_trans = torch.utils.data.DataLoader(\n",
    "    datasets.MNIST(\n",
    "        root=train_config.data_root, \n",
    "        train=False, \n",
    "        download=True, \n",
    "        transform=image_transforms),\n",
    "    batch_size=batch_size,\n",
    "    shuffle=False,\n",
    "    num_workers=1\n",
    "    )\n",
    "\n",
    "for data, _ in test_trans:\n",
    "    pred, prob = prediction(lenet5_mnist, train_config, data)\n",
    "    break\n",
    "    \n",
    "plt.rcParams[\"figure.figsize\"] = (3, 3)\n",
    "for images, _ in test:\n",
    "    for i, img in enumerate(images):\n",
    "        img = transforms.functional.to_pil_image(img)\n",
    "        plt.imshow(img, cmap='gray')\n",
    "        plt.gca().set_title('Prediction: {0}, Prob: {1:.2}'.format(pred[i], prob[i]))\n",
    "        plt.show()\n",
    "    break"
   ]
  }
 ],
 "metadata": {
  "jupytext": {
   "encoding": "# -*- coding: utf-8 -*-",
   "formats": "ipynb,py:percent"
  },
  "kernelspec": {
   "display_name": "course3_week3_venv",
   "language": "python",
   "name": "course3_week3_venv"
  },
  "language_info": {
   "codemirror_mode": {
    "name": "ipython",
    "version": 3
   },
   "file_extension": ".py",
   "mimetype": "text/x-python",
   "name": "python",
   "nbconvert_exporter": "python",
   "pygments_lexer": "ipython3",
   "version": "3.6.9"
  }
 },
 "nbformat": 4,
 "nbformat_minor": 2
}
